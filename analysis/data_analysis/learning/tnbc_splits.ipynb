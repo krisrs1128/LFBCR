{
 "cells": [
  {
   "cell_type": "code",
   "execution_count": null,
   "metadata": {},
   "outputs": [],
   "source": [
    "import os\n",
    "import pandas as pd\n",
    "import numpy as np\n",
    "from pathlib import Path\n",
    "from stability.data import random_split\n",
    "from stability.bootstrap import bootstrap_indices"
   ]
  },
  {
   "cell_type": "markdown",
   "metadata": {},
   "source": [
    "First, we need to list all the tiles. We also read in the `y.csv` files, because they have a column describing which subject each patch came from (we could do string manipulation on the paths, but having an index file is more reliable)."
   ]
  },
  {
   "cell_type": "code",
   "execution_count": null,
   "metadata": {},
   "outputs": [],
   "source": [
    "data_dir = Path(os.environ[\"DATA_DIR\"])\n",
    "paths = {\n",
    "    \"tile\": Path(data_dir).glob(\"**/*npy\"),\n",
    "    \"y\": Path(data_dir).glob(\"**/y*csv\")\n",
    "}\n",
    "\n",
    "y = []\n",
    "for p in paths[\"y\"]:\n",
    "    y.append(pd.read_csv(p))"
   ]
  },
  {
   "cell_type": "markdown",
   "metadata": {},
   "source": [
    "Now, we can generate the split across participants and link the assignments back to the tiles associated with them. The resulting splits are saved in `Xy.csv`."
   ]
  },
  {
   "cell_type": "code",
   "execution_count": null,
   "metadata": {},
   "outputs": [],
   "source": [
    "y_df = pd.concat(y)\n",
    "subjects = y_df[\"i\"].unique()\n",
    "\n",
    "split = random_split(subjects, [0.7, 0.1, 0.2])\n",
    "split.columns = [\"i\", \"split\"]\n",
    "\n",
    "x_col = [col for col in y_df if col.startswith(\"X\")]\n",
    "split = pd.merge(y_df[[\"i\", \"w\", \"h\", \"y\"] + x_col], split)\n",
    "split[\"path\"] = split.apply(lambda r: f\"tiles/{r.i}_{str(r.w)}-{str(r.h)}.npy\", axis=1)\n",
    "split.to_csv(data_dir / \"Xy.csv\", index=False)"
   ]
  },
  {
   "cell_type": "markdown",
   "metadata": {},
   "source": [
    "For reference, some example rows from this file are,"
   ]
  },
  {
   "cell_type": "code",
   "execution_count": null,
   "metadata": {},
   "outputs": [],
   "source": [
    "split[:3]"
   ]
  },
  {
   "cell_type": "code",
   "execution_count": null,
   "metadata": {},
   "outputs": [],
   "source": [
    "b = bootstrap_indices(len(split.loc[split[\"split\"] == \"train\", \"path\"]), 20, data_dir / f\"bootstraps.csv\")"
   ]
  },
  {
   "cell_type": "code",
   "execution_count": null,
   "metadata": {},
   "outputs": [],
   "source": []
  }
 ],
 "metadata": {
  "kernelspec": {
   "display_name": "li2",
   "language": "python",
   "name": "li2"
  },
  "language_info": {
   "codemirror_mode": {
    "name": "ipython",
    "version": 3
   },
   "file_extension": ".py",
   "mimetype": "text/x-python",
   "name": "python",
   "nbconvert_exporter": "python",
   "pygments_lexer": "ipython3",
   "version": "3.7.3"
  }
 },
 "nbformat": 4,
 "nbformat_minor": 4
}
